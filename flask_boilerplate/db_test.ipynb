{
 "cells": [
  {
   "cell_type": "code",
   "execution_count": 3,
   "metadata": {},
   "outputs": [],
   "source": [
    "# Import Packages and Modules\n",
    "import numpy as np\n",
    "import pandas as pd\n",
    "import sqlalchemy\n",
    "from sqlalchemy.ext.automap import automap_base\n",
    "from sqlalchemy import create_engine, func"
   ]
  },
  {
   "cell_type": "code",
   "execution_count": 11,
   "metadata": {},
   "outputs": [],
   "source": [
    "# Set data directory\n",
    "file_path = '../Data/clean_data.csv'"
   ]
  },
  {
   "cell_type": "code",
   "execution_count": 22,
   "metadata": {},
   "outputs": [
    {
     "data": {
      "text/plain": [
       "'[{\"id\":11825529,\"log_price\":4.4188406078,\"property_type\":\"Apartment\",\"room_type\":\"Entire home\\\\/apt\",\"amenities\":\"{TV,Internet,\\\\\"Wireless Internet\\\\\",\\\\\"Air conditioning\\\\\",Pool,Kitchen,\\\\\"Free parking on premises\\\\\",Gym,\\\\\"Elevator in building\\\\\",\\\\\"Hot tub\\\\\",Heating,\\\\\"Family\\\\/kid friendly\\\\\",Washer,Dryer,\\\\\"Smoke detector\\\\\",\\\\\"Carbon monoxide detector\\\\\",Essentials,Shampoo,Hangers,\\\\\"Hair dryer\\\\\",\\\\\"Laptop friendly workspace\\\\\"}\",\"accommodates\":3,\"bathrooms\":1.0,\"bed_type\":\"Real Bed\",\"cancellation_policy\":\"moderate\",\"cleaning_fee\":true,\"city_x\":\"LA\",\"description\":\"Warm and cozy studio with full kitchen and bathroom. Big balcony. Parking included. Walk to the beach, rent a bike, eat at variety of restaurants, see boats at Marina harbor! Great location! Friendly neighborhood! Meet locals at \\\\\"Cow\\'s End\\\\\" famous coffee and wrap cafe.  Great experience all around. This is a non smoking apartment. Warm and cozy studio with full kitchen and bathroom. Big balcony. Parking included. Walk to the beach, rent a bike, eat at variety of restaurants, see boats at Marina harbor! Great location! Friendly neighborhood! Meet locals at \\\\\"Cow\\'s End\\\\\" famous coffee and wrap cafe.  Great experience all around. Close to the beach, lots of entertainment, balcony,  full kitchen. Gated parking, swimming pool, beach activities, Venice Beach, Marina Harbor At the check in, to deliver the keys. Quite peaceful place, friendly locals, fresh ocean breeze, Venice canals, marina harbor. Yes, the is Bus and uber Gated parking, swimming pool, beach activities, Venice Beach, Marina Har\",\"first_review\":\"2017-03-10\",\"host_has_profile_pic\":\"t\",\"host_identity_verified\":\"f\",\"host_response_rate\":\"100%\",\"host_since\":\"2017-03-03\",\"instant_bookable\":\"t\",\"last_review\":\"2017-04-21\",\"latitude\":33.9804543973,\"longitude\":-118.4628207375,\"name\":\"Beach Town Studio and Parking!!!11h\",\"neighbourhood\":null,\"number_of_reviews\":15,\"review_scores_rating\":97.0,\"thumbnail_url\":\"https:\\\\/\\\\/a0.muscache.com\\\\/im\\\\/pictures\\\\/4c920c60-43dc-4169-a0da-ccf37f1d7a94.jpg?aki_policy=small\",\"zip\":90292.0,\"bedrooms\":1.0,\"beds\":1.0,\"zip_lat\":33.97831,\"zip_lng\":-118.44761,\"city_y\":\"Marina Del Rey\",\"state_id\":\"CA\",\"state_name\":\"California\",\"population\":21576.0,\"density\":4091.9,\"county_name\":\"Los Angeles\"},{\"id\":13971273,\"log_price\":4.7874917428,\"property_type\":\"Condominium\",\"room_type\":\"Entire home\\\\/apt\",\"amenities\":\"{TV,\\\\\"Cable TV\\\\\",\\\\\"Wireless Internet\\\\\",\\\\\"Wheelchair accessible\\\\\",Pool,Kitchen,\\\\\"Free parking on premises\\\\\",Doorman,Dog(s),Cat(s),\\\\\"Other pet(s)\\\\\",\\\\\"Elevator in building\\\\\",\\\\\"Hot tub\\\\\",\\\\\"Buzzer\\\\/wireless intercom\\\\\",Heating,\\\\\"Family\\\\/kid friendly\\\\\",Washer,Dryer,\\\\\"Smoke detector\\\\\",\\\\\"Carbon monoxide detector\\\\\",\\\\\"First aid kit\\\\\",Essentials,Shampoo,\\\\\"Lock on bedroom door\\\\\",Hangers,\\\\\"Hair dryer\\\\\"}\",\"accommodates\":2,\"bathrooms\":1.0,\"bed_type\":\"Real Bed\",\"cancellation_policy\":\"moderate\",\"cleaning_fee\":true,\"city_x\":\"LA\",\"description\":\"Arguably the best location (and safest) in downtown LA. Steps away from Staples Center, LA Live, LA Convention Center,  2 metro stations. Next door to FIDM.  Convenience: Starbucks & cleaner in the building. Ralph\\'s across the street. FREE ASSIGNED GATED INDOOR PARKING. FREE WIFI. Fully stocked kitchen. PANORAMIC view of DTLA neighborhoods and LA Live, on your private balcony that spans the entire living room and bedroom.  Luxury hotel-style living with concierge, lobby, pool, jacuzzi, etc! Bright, airy and cozy 1 bedroom condo - all to yourself! 1 assigned parking space (indoor, gated), at no additional charge. Condo is located in South Park, the sub-neighborhood of Downtown LA with  premium luxury high rise buildings (Ritz-Carlton, EVO, and many more).  It is next to the Financial District and a stone\\'s throw away from Korea Town and Little Tokyo.  Several blocks away from 4 major freeways: 110, 5, 10 and 101. Several blocks away from 4 major freeways: 110, 5, 10 and 101. 3 blocks aw\",\"first_review\":\"2016-12-16\",\"host_has_profile_pic\":\"t\",\"host_identity_verified\":\"t\",\"host_response_rate\":\"100%\",\"host_since\":\"2013-05-18\",\"instant_bookable\":\"f\",\"last_review\":\"2017-04-12\",\"latitude\":34.0467374142,\"longitude\":-118.2604389157,\"name\":\"Near LA Live, Staple\\'s. Starbucks inside. OWN VIEW\",\"neighbourhood\":\"Downtown\",\"number_of_reviews\":9,\"review_scores_rating\":93.0,\"thumbnail_url\":\"https:\\\\/\\\\/a0.muscache.com\\\\/im\\\\/pictures\\\\/61bd05d5-c4db-4c49-9f87-c0981c2d83b9.jpg?aki_policy=small\",\"zip\":90015.0,\"bedrooms\":1.0,\"beds\":1.0,\"zip_lat\":34.03939,\"zip_lng\":-118.26645,\"city_y\":\"Los Angeles\",\"state_id\":\"CA\",\"state_name\":\"California\",\"population\":18986.0,\"density\":4285.4,\"county_name\":\"Los Angeles\"}]'"
      ]
     },
     "execution_count": 22,
     "metadata": {},
     "output_type": "execute_result"
    }
   ],
   "source": [
    "# Read head of dataset\n",
    "df = pd.read_csv(file_path,nrows=2).to_json(orient='records')\n",
    "df"
   ]
  },
  {
   "cell_type": "markdown",
   "metadata": {},
   "source": [
    "## Read Raw Data to Python"
   ]
  },
  {
   "cell_type": "code",
   "execution_count": null,
   "metadata": {},
   "outputs": [],
   "source": [
    "## Step 1: Create Connector to a Database"
   ]
  },
  {
   "cell_type": "code",
   "execution_count": null,
   "metadata": {},
   "outputs": [],
   "source": [
    "## Step 2: Building the Database"
   ]
  }
 ],
 "metadata": {
  "kernelspec": {
   "display_name": "Python 3",
   "language": "python",
   "name": "python3"
  },
  "language_info": {
   "codemirror_mode": {
    "name": "ipython",
    "version": 3
   },
   "file_extension": ".py",
   "mimetype": "text/x-python",
   "name": "python",
   "nbconvert_exporter": "python",
   "pygments_lexer": "ipython3",
   "version": "3.7.3"
  }
 },
 "nbformat": 4,
 "nbformat_minor": 2
}
