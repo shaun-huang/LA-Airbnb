{
 "cells": [
  {
   "cell_type": "code",
   "execution_count": 1,
   "metadata": {},
   "outputs": [],
   "source": [
    "# Import Packages and Modules\n",
    "import numpy as np\n",
    "import pandas as pd\n",
    "import sqlalchemy\n",
    "from sqlalchemy.ext.automap import automap_base\n",
    "from sqlalchemy import create_engine, func\n",
    "import json\n",
    "from flask import Flask, jsonify, render_template,request"
   ]
  },
  {
   "cell_type": "code",
   "execution_count": 3,
   "metadata": {},
   "outputs": [],
   "source": [
    "# Set data directory\n",
    "file_path = '../Data/clean_data.csv'"
   ]
  },
  {
   "cell_type": "code",
   "execution_count": 4,
   "metadata": {},
   "outputs": [
    {
     "data": {
      "text/plain": [
       "'[{\"id\":11825529,\"log_price\":4.4188406078,\"property_type\":\"Apartment\",\"room_type\":\"Entire home\\\\/apt\",\"amenities\":\"{TV,Internet,\\\\\"Wireless Internet\\\\\",\\\\\"Air conditioning\\\\\",Pool,Kitchen,\\\\\"Free parking on premises\\\\\",Gym,\\\\\"Elevator in building\\\\\",\\\\\"Hot tub\\\\\",Heating,\\\\\"Family\\\\/kid friendly\\\\\",Washer,Dryer,\\\\\"Smoke detector\\\\\",\\\\\"Carbon monoxide detector\\\\\",Essentials,Shampoo,Hangers,\\\\\"Hair dryer\\\\\",\\\\\"Laptop friendly workspace\\\\\"}\",\"accommodates\":3,\"bathrooms\":1.0,\"bed_type\":\"Real Bed\",\"cancellation_policy\":\"moderate\",\"cleaning_fee\":true,\"city_x\":\"LA\",\"description\":\"Warm and cozy studio with full kitchen and bathroom. Big balcony. Parking included. Walk to the beach, rent a bike, eat at variety of restaurants, see boats at Marina harbor! Great location! Friendly neighborhood! Meet locals at \\\\\"Cow\\'s End\\\\\" famous coffee and wrap cafe.  Great experience all around. This is a non smoking apartment. Warm and cozy studio with full kitchen and bathroom. Big balcony. Parking included. Walk to the beach, rent a bike, eat at variety of restaurants, see boats at Marina harbor! Great location! Friendly neighborhood! Meet locals at \\\\\"Cow\\'s End\\\\\" famous coffee and wrap cafe.  Great experience all around. Close to the beach, lots of entertainment, balcony,  full kitchen. Gated parking, swimming pool, beach activities, Venice Beach, Marina Harbor At the check in, to deliver the keys. Quite peaceful place, friendly locals, fresh ocean breeze, Venice canals, marina harbor. Yes, the is Bus and uber Gated parking, swimming pool, beach activities, Venice Beach, Marina Har\",\"first_review\":\"2017-03-10\",\"host_has_profile_pic\":\"t\",\"host_identity_verified\":\"f\",\"host_response_rate\":\"100%\",\"host_since\":\"2017-03-03\",\"instant_bookable\":\"t\",\"last_review\":\"2017-04-21\",\"latitude\":33.9804543973,\"longitude\":-118.4628207375,\"name\":\"Beach Town Studio and Parking!!!11h\",\"neighbourhood\":null,\"number_of_reviews\":15,\"review_scores_rating\":97.0,\"thumbnail_url\":\"https:\\\\/\\\\/a0.muscache.com\\\\/im\\\\/pictures\\\\/4c920c60-43dc-4169-a0da-ccf37f1d7a94.jpg?aki_policy=small\",\"zip\":90292.0,\"bedrooms\":1.0,\"beds\":1.0,\"zip_lat\":33.97831,\"zip_lng\":-118.44761,\"city_y\":\"Marina Del Rey\",\"state_id\":\"CA\",\"state_name\":\"California\",\"population\":21576.0,\"density\":4091.9,\"county_name\":\"Los Angeles\"},{\"id\":13971273,\"log_price\":4.7874917428,\"property_type\":\"Condominium\",\"room_type\":\"Entire home\\\\/apt\",\"amenities\":\"{TV,\\\\\"Cable TV\\\\\",\\\\\"Wireless Internet\\\\\",\\\\\"Wheelchair accessible\\\\\",Pool,Kitchen,\\\\\"Free parking on premises\\\\\",Doorman,Dog(s),Cat(s),\\\\\"Other pet(s)\\\\\",\\\\\"Elevator in building\\\\\",\\\\\"Hot tub\\\\\",\\\\\"Buzzer\\\\/wireless intercom\\\\\",Heating,\\\\\"Family\\\\/kid friendly\\\\\",Washer,Dryer,\\\\\"Smoke detector\\\\\",\\\\\"Carbon monoxide detector\\\\\",\\\\\"First aid kit\\\\\",Essentials,Shampoo,\\\\\"Lock on bedroom door\\\\\",Hangers,\\\\\"Hair dryer\\\\\"}\",\"accommodates\":2,\"bathrooms\":1.0,\"bed_type\":\"Real Bed\",\"cancellation_policy\":\"moderate\",\"cleaning_fee\":true,\"city_x\":\"LA\",\"description\":\"Arguably the best location (and safest) in downtown LA. Steps away from Staples Center, LA Live, LA Convention Center,  2 metro stations. Next door to FIDM.  Convenience: Starbucks & cleaner in the building. Ralph\\'s across the street. FREE ASSIGNED GATED INDOOR PARKING. FREE WIFI. Fully stocked kitchen. PANORAMIC view of DTLA neighborhoods and LA Live, on your private balcony that spans the entire living room and bedroom.  Luxury hotel-style living with concierge, lobby, pool, jacuzzi, etc! Bright, airy and cozy 1 bedroom condo - all to yourself! 1 assigned parking space (indoor, gated), at no additional charge. Condo is located in South Park, the sub-neighborhood of Downtown LA with  premium luxury high rise buildings (Ritz-Carlton, EVO, and many more).  It is next to the Financial District and a stone\\'s throw away from Korea Town and Little Tokyo.  Several blocks away from 4 major freeways: 110, 5, 10 and 101. Several blocks away from 4 major freeways: 110, 5, 10 and 101. 3 blocks aw\",\"first_review\":\"2016-12-16\",\"host_has_profile_pic\":\"t\",\"host_identity_verified\":\"t\",\"host_response_rate\":\"100%\",\"host_since\":\"2013-05-18\",\"instant_bookable\":\"f\",\"last_review\":\"2017-04-12\",\"latitude\":34.0467374142,\"longitude\":-118.2604389157,\"name\":\"Near LA Live, Staple\\'s. Starbucks inside. OWN VIEW\",\"neighbourhood\":\"Downtown\",\"number_of_reviews\":9,\"review_scores_rating\":93.0,\"thumbnail_url\":\"https:\\\\/\\\\/a0.muscache.com\\\\/im\\\\/pictures\\\\/61bd05d5-c4db-4c49-9f87-c0981c2d83b9.jpg?aki_policy=small\",\"zip\":90015.0,\"bedrooms\":1.0,\"beds\":1.0,\"zip_lat\":34.03939,\"zip_lng\":-118.26645,\"city_y\":\"Los Angeles\",\"state_id\":\"CA\",\"state_name\":\"California\",\"population\":18986.0,\"density\":4285.4,\"county_name\":\"Los Angeles\"}]'"
      ]
     },
     "execution_count": 4,
     "metadata": {},
     "output_type": "execute_result"
    }
   ],
   "source": [
    "# Read head of dataset\n",
    "df = pd.read_csv(file_path,nrows=2)\n",
    "jsondata = df.to_json(orient='records')\n",
    "jsondata"
   ]
  },
  {
   "cell_type": "code",
   "execution_count": 6,
   "metadata": {},
   "outputs": [
    {
     "ename": "RuntimeError",
     "evalue": "Working outside of application context.\n\nThis typically means that you attempted to use functionality that needed\nto interface with the current application object in some way. To solve\nthis, set up an application context with app.app_context().  See the\ndocumentation for more information.",
     "output_type": "error",
     "traceback": [
      "\u001b[1;31m---------------------------------------------------------------------------\u001b[0m",
      "\u001b[1;31mRuntimeError\u001b[0m                              Traceback (most recent call last)",
      "\u001b[1;32m<ipython-input-6-c843d63e40f3>\u001b[0m in \u001b[0;36m<module>\u001b[1;34m\u001b[0m\n\u001b[1;32m----> 1\u001b[1;33m \u001b[0mjsonify\u001b[0m\u001b[1;33m(\u001b[0m\u001b[0mjsondata\u001b[0m\u001b[1;33m)\u001b[0m\u001b[1;33m\u001b[0m\u001b[1;33m\u001b[0m\u001b[0m\n\u001b[0m",
      "\u001b[1;32m~\\Anaconda3\\lib\\site-packages\\flask\\json\\__init__.py\u001b[0m in \u001b[0;36mjsonify\u001b[1;34m(*args, **kwargs)\u001b[0m\n\u001b[0;32m    356\u001b[0m     \u001b[0mseparators\u001b[0m \u001b[1;33m=\u001b[0m \u001b[1;33m(\u001b[0m\u001b[1;34m\",\"\u001b[0m\u001b[1;33m,\u001b[0m \u001b[1;34m\":\"\u001b[0m\u001b[1;33m)\u001b[0m\u001b[1;33m\u001b[0m\u001b[1;33m\u001b[0m\u001b[0m\n\u001b[0;32m    357\u001b[0m \u001b[1;33m\u001b[0m\u001b[0m\n\u001b[1;32m--> 358\u001b[1;33m     \u001b[1;32mif\u001b[0m \u001b[0mcurrent_app\u001b[0m\u001b[1;33m.\u001b[0m\u001b[0mconfig\u001b[0m\u001b[1;33m[\u001b[0m\u001b[1;34m\"JSONIFY_PRETTYPRINT_REGULAR\"\u001b[0m\u001b[1;33m]\u001b[0m \u001b[1;32mor\u001b[0m \u001b[0mcurrent_app\u001b[0m\u001b[1;33m.\u001b[0m\u001b[0mdebug\u001b[0m\u001b[1;33m:\u001b[0m\u001b[1;33m\u001b[0m\u001b[1;33m\u001b[0m\u001b[0m\n\u001b[0m\u001b[0;32m    359\u001b[0m         \u001b[0mindent\u001b[0m \u001b[1;33m=\u001b[0m \u001b[1;36m2\u001b[0m\u001b[1;33m\u001b[0m\u001b[1;33m\u001b[0m\u001b[0m\n\u001b[0;32m    360\u001b[0m         \u001b[0mseparators\u001b[0m \u001b[1;33m=\u001b[0m \u001b[1;33m(\u001b[0m\u001b[1;34m\", \"\u001b[0m\u001b[1;33m,\u001b[0m \u001b[1;34m\": \"\u001b[0m\u001b[1;33m)\u001b[0m\u001b[1;33m\u001b[0m\u001b[1;33m\u001b[0m\u001b[0m\n",
      "\u001b[1;32m~\\Anaconda3\\lib\\site-packages\\werkzeug\\local.py\u001b[0m in \u001b[0;36m__getattr__\u001b[1;34m(self, name)\u001b[0m\n\u001b[0;32m    346\u001b[0m         \u001b[1;32mif\u001b[0m \u001b[0mname\u001b[0m \u001b[1;33m==\u001b[0m \u001b[1;34m\"__members__\"\u001b[0m\u001b[1;33m:\u001b[0m\u001b[1;33m\u001b[0m\u001b[1;33m\u001b[0m\u001b[0m\n\u001b[0;32m    347\u001b[0m             \u001b[1;32mreturn\u001b[0m \u001b[0mdir\u001b[0m\u001b[1;33m(\u001b[0m\u001b[0mself\u001b[0m\u001b[1;33m.\u001b[0m\u001b[0m_get_current_object\u001b[0m\u001b[1;33m(\u001b[0m\u001b[1;33m)\u001b[0m\u001b[1;33m)\u001b[0m\u001b[1;33m\u001b[0m\u001b[1;33m\u001b[0m\u001b[0m\n\u001b[1;32m--> 348\u001b[1;33m         \u001b[1;32mreturn\u001b[0m \u001b[0mgetattr\u001b[0m\u001b[1;33m(\u001b[0m\u001b[0mself\u001b[0m\u001b[1;33m.\u001b[0m\u001b[0m_get_current_object\u001b[0m\u001b[1;33m(\u001b[0m\u001b[1;33m)\u001b[0m\u001b[1;33m,\u001b[0m \u001b[0mname\u001b[0m\u001b[1;33m)\u001b[0m\u001b[1;33m\u001b[0m\u001b[1;33m\u001b[0m\u001b[0m\n\u001b[0m\u001b[0;32m    349\u001b[0m \u001b[1;33m\u001b[0m\u001b[0m\n\u001b[0;32m    350\u001b[0m     \u001b[1;32mdef\u001b[0m \u001b[0m__setitem__\u001b[0m\u001b[1;33m(\u001b[0m\u001b[0mself\u001b[0m\u001b[1;33m,\u001b[0m \u001b[0mkey\u001b[0m\u001b[1;33m,\u001b[0m \u001b[0mvalue\u001b[0m\u001b[1;33m)\u001b[0m\u001b[1;33m:\u001b[0m\u001b[1;33m\u001b[0m\u001b[1;33m\u001b[0m\u001b[0m\n",
      "\u001b[1;32m~\\Anaconda3\\lib\\site-packages\\werkzeug\\local.py\u001b[0m in \u001b[0;36m_get_current_object\u001b[1;34m(self)\u001b[0m\n\u001b[0;32m    305\u001b[0m         \"\"\"\n\u001b[0;32m    306\u001b[0m         \u001b[1;32mif\u001b[0m \u001b[1;32mnot\u001b[0m \u001b[0mhasattr\u001b[0m\u001b[1;33m(\u001b[0m\u001b[0mself\u001b[0m\u001b[1;33m.\u001b[0m\u001b[0m__local\u001b[0m\u001b[1;33m,\u001b[0m \u001b[1;34m\"__release_local__\"\u001b[0m\u001b[1;33m)\u001b[0m\u001b[1;33m:\u001b[0m\u001b[1;33m\u001b[0m\u001b[1;33m\u001b[0m\u001b[0m\n\u001b[1;32m--> 307\u001b[1;33m             \u001b[1;32mreturn\u001b[0m \u001b[0mself\u001b[0m\u001b[1;33m.\u001b[0m\u001b[0m__local\u001b[0m\u001b[1;33m(\u001b[0m\u001b[1;33m)\u001b[0m\u001b[1;33m\u001b[0m\u001b[1;33m\u001b[0m\u001b[0m\n\u001b[0m\u001b[0;32m    308\u001b[0m         \u001b[1;32mtry\u001b[0m\u001b[1;33m:\u001b[0m\u001b[1;33m\u001b[0m\u001b[1;33m\u001b[0m\u001b[0m\n\u001b[0;32m    309\u001b[0m             \u001b[1;32mreturn\u001b[0m \u001b[0mgetattr\u001b[0m\u001b[1;33m(\u001b[0m\u001b[0mself\u001b[0m\u001b[1;33m.\u001b[0m\u001b[0m__local\u001b[0m\u001b[1;33m,\u001b[0m \u001b[0mself\u001b[0m\u001b[1;33m.\u001b[0m\u001b[0m__name__\u001b[0m\u001b[1;33m)\u001b[0m\u001b[1;33m\u001b[0m\u001b[1;33m\u001b[0m\u001b[0m\n",
      "\u001b[1;32m~\\Anaconda3\\lib\\site-packages\\flask\\globals.py\u001b[0m in \u001b[0;36m_find_app\u001b[1;34m()\u001b[0m\n\u001b[0;32m     50\u001b[0m     \u001b[0mtop\u001b[0m \u001b[1;33m=\u001b[0m \u001b[0m_app_ctx_stack\u001b[0m\u001b[1;33m.\u001b[0m\u001b[0mtop\u001b[0m\u001b[1;33m\u001b[0m\u001b[1;33m\u001b[0m\u001b[0m\n\u001b[0;32m     51\u001b[0m     \u001b[1;32mif\u001b[0m \u001b[0mtop\u001b[0m \u001b[1;32mis\u001b[0m \u001b[1;32mNone\u001b[0m\u001b[1;33m:\u001b[0m\u001b[1;33m\u001b[0m\u001b[1;33m\u001b[0m\u001b[0m\n\u001b[1;32m---> 52\u001b[1;33m         \u001b[1;32mraise\u001b[0m \u001b[0mRuntimeError\u001b[0m\u001b[1;33m(\u001b[0m\u001b[0m_app_ctx_err_msg\u001b[0m\u001b[1;33m)\u001b[0m\u001b[1;33m\u001b[0m\u001b[1;33m\u001b[0m\u001b[0m\n\u001b[0m\u001b[0;32m     53\u001b[0m     \u001b[1;32mreturn\u001b[0m \u001b[0mtop\u001b[0m\u001b[1;33m.\u001b[0m\u001b[0mapp\u001b[0m\u001b[1;33m\u001b[0m\u001b[1;33m\u001b[0m\u001b[0m\n\u001b[0;32m     54\u001b[0m \u001b[1;33m\u001b[0m\u001b[0m\n",
      "\u001b[1;31mRuntimeError\u001b[0m: Working outside of application context.\n\nThis typically means that you attempted to use functionality that needed\nto interface with the current application object in some way. To solve\nthis, set up an application context with app.app_context().  See the\ndocumentation for more information."
     ]
    }
   ],
   "source": []
  },
  {
   "cell_type": "markdown",
   "metadata": {},
   "source": [
    "## Read Raw Data to Python"
   ]
  },
  {
   "cell_type": "code",
   "execution_count": null,
   "metadata": {},
   "outputs": [],
   "source": [
    "## Step 1: Create Connector to a Database"
   ]
  },
  {
   "cell_type": "code",
   "execution_count": null,
   "metadata": {},
   "outputs": [],
   "source": [
    "## Step 2: Building the Database"
   ]
  }
 ],
 "metadata": {
  "kernelspec": {
   "display_name": "Python 3",
   "language": "python",
   "name": "python3"
  },
  "language_info": {
   "codemirror_mode": {
    "name": "ipython",
    "version": 3
   },
   "file_extension": ".py",
   "mimetype": "text/x-python",
   "name": "python",
   "nbconvert_exporter": "python",
   "pygments_lexer": "ipython3",
   "version": "3.7.3"
  }
 },
 "nbformat": 4,
 "nbformat_minor": 2
}
